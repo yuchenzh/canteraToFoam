{
 "cells": [
  {
   "cell_type": "code",
   "execution_count": 1,
   "id": "bae96bbf",
   "metadata": {},
   "outputs": [],
   "source": [
    "import cantera as ct\n",
    "gas = ct.Solution('./cantera/chem.yaml')"
   ]
  },
  {
   "cell_type": "code",
   "execution_count": null,
   "id": "178a6cff",
   "metadata": {},
   "outputs": [],
   "source": []
  }
 ],
 "metadata": {
  "kernelspec": {
   "display_name": "ct-env",
   "language": "python",
   "name": "python3"
  },
  "language_info": {
   "codemirror_mode": {
    "name": "ipython",
    "version": 3
   },
   "file_extension": ".py",
   "mimetype": "text/x-python",
   "name": "python",
   "nbconvert_exporter": "python",
   "pygments_lexer": "ipython3",
   "version": "3.13.2"
  }
 },
 "nbformat": 4,
 "nbformat_minor": 5
}
